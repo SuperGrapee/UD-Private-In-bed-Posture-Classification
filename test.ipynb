{
 "cells": [
  {
   "cell_type": "code",
   "execution_count": 1,
   "metadata": {},
   "outputs": [],
   "source": [
    "def reportmsg():\n",
    "    flag = input('请输入标记:')\n",
    "    flag = int(flag)\n",
    "    if flag == 0:\n",
    "        print('stop')\n",
    "    elif flag == 1:\n",
    "        print('straight')\n",
    "    elif flag == 2:\n",
    "        print('turn right')\n",
    "    elif flag == 3:\n",
    "        print('turn left')\n",
    "    else:\n",
    "        print('wrong')\n",
    "    \n",
    "    return None\n",
    "\n",
    "reportmsg()\n",
    "    "
   ]
  }
 ],
 "metadata": {
  "kernelspec": {
   "display_name": "pytorch",
   "language": "python",
   "name": "python3"
  },
  "language_info": {
   "codemirror_mode": {
    "name": "ipython",
    "version": 3
   },
   "file_extension": ".py",
   "mimetype": "text/x-python",
   "name": "python",
   "nbconvert_exporter": "python",
   "pygments_lexer": "ipython3",
   "version": "3.11.8"
  }
 },
 "nbformat": 4,
 "nbformat_minor": 2
}
